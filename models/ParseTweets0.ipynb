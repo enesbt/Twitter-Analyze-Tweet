{
 "cells": [
  {
   "cell_type": "code",
   "execution_count": 40,
   "metadata": {},
   "outputs": [],
   "source": [
    "import pandas as pd\n",
    "from datetime import datetime\n",
    "import re"
   ]
  },
  {
   "cell_type": "code",
   "execution_count": 41,
   "metadata": {},
   "outputs": [],
   "source": [
    "dff1 = pd.read_csv('../data/depremGun1tr.csv')\n",
    "dff2 = pd.read_csv('../data/depremGun2tr.csv')\n",
    "dff3 = pd.read_csv('../data/depremGun3tr.csv')\n",
    "dff4 = pd.read_csv('../data/depremGun4tr.csv')\n",
    "dff5 = pd.read_csv('../data/depremGun5tr.csv')"
   ]
  },
  {
   "cell_type": "code",
   "execution_count": 42,
   "metadata": {},
   "outputs": [],
   "source": [
    "combined_df1 = pd.concat([dff1, dff2, dff3, dff4, dff5], axis=0)"
   ]
  },
  {
   "cell_type": "code",
   "execution_count": 43,
   "metadata": {},
   "outputs": [
    {
     "data": {
      "text/html": [
       "<div>\n",
       "<style scoped>\n",
       "    .dataframe tbody tr th:only-of-type {\n",
       "        vertical-align: middle;\n",
       "    }\n",
       "\n",
       "    .dataframe tbody tr th {\n",
       "        vertical-align: top;\n",
       "    }\n",
       "\n",
       "    .dataframe thead th {\n",
       "        text-align: right;\n",
       "    }\n",
       "</style>\n",
       "<table border=\"1\" class=\"dataframe\">\n",
       "  <thead>\n",
       "    <tr style=\"text-align: right;\">\n",
       "      <th></th>\n",
       "      <th>Date</th>\n",
       "      <th>Tweet</th>\n",
       "    </tr>\n",
       "  </thead>\n",
       "  <tbody>\n",
       "    <tr>\n",
       "      <th>0</th>\n",
       "      <td>2023-02-06 23:59:59+00:00</td>\n",
       "      <td>İstanbulda gök gürültüsü başladı Allah’ım sen ...</td>\n",
       "    </tr>\n",
       "    <tr>\n",
       "      <th>1</th>\n",
       "      <td>2023-02-06 23:59:58+00:00</td>\n",
       "      <td>Bu gece dualarımız enkaz altında kalanlar içi...</td>\n",
       "    </tr>\n",
       "    <tr>\n",
       "      <th>2</th>\n",
       "      <td>2023-02-06 23:59:58+00:00</td>\n",
       "      <td>Ülkede afet var fırsatçılar iş başında..!Ülked...</td>\n",
       "    </tr>\n",
       "    <tr>\n",
       "      <th>3</th>\n",
       "      <td>2023-02-06 23:59:57+00:00</td>\n",
       "      <td>Askerlerimiz kışladan çıksın  Yollar KAPALI  z...</td>\n",
       "    </tr>\n",
       "    <tr>\n",
       "      <th>4</th>\n",
       "      <td>2023-02-06 23:59:57+00:00</td>\n",
       "      <td>Gün suçlu arama; sağa veya sola çamur atma, ik...</td>\n",
       "    </tr>\n",
       "  </tbody>\n",
       "</table>\n",
       "</div>"
      ],
      "text/plain": [
       "                        Date  \\\n",
       "0  2023-02-06 23:59:59+00:00   \n",
       "1  2023-02-06 23:59:58+00:00   \n",
       "2  2023-02-06 23:59:58+00:00   \n",
       "3  2023-02-06 23:59:57+00:00   \n",
       "4  2023-02-06 23:59:57+00:00   \n",
       "\n",
       "                                               Tweet  \n",
       "0  İstanbulda gök gürültüsü başladı Allah’ım sen ...  \n",
       "1   Bu gece dualarımız enkaz altında kalanlar içi...  \n",
       "2  Ülkede afet var fırsatçılar iş başında..!Ülked...  \n",
       "3  Askerlerimiz kışladan çıksın  Yollar KAPALI  z...  \n",
       "4  Gün suçlu arama; sağa veya sola çamur atma, ik...  "
      ]
     },
     "execution_count": 43,
     "metadata": {},
     "output_type": "execute_result"
    }
   ],
   "source": [
    "combined_df1.drop(columns=['url','username','hashtag','mentions','likeCount','retweetCount','replyCount'], inplace=True)\n",
    "combined_df1.head()"
   ]
  },
  {
   "cell_type": "code",
   "execution_count": 44,
   "metadata": {},
   "outputs": [],
   "source": [
    "def parse_tweets(file_path):\n",
    "    tweets = []\n",
    "    with open(file_path, 'r', encoding='utf-8') as f:\n",
    "        content = f.read()\n",
    "    tweet_blocks = content.split('\\nTimestamp: ')\n",
    "    for block in tweet_blocks:\n",
    "        if not block.strip():\n",
    "            continue\n",
    "            \n",
    "        try:\n",
    "            date_match = re.search(r'Feb \\d+, 2023', block)\n",
    "            tweet_date = date_match.group(0) if date_match else None\n",
    "            content_match = re.search(r'Feb \\d+, 2023\\n(.*?)(?=\\d+\\n\\d+|$)', block, re.DOTALL)\n",
    "            content = content_match.group(1).strip() if content_match else None\n",
    "            \n",
    "            tweets.append({\n",
    "                'Date': tweet_date,\n",
    "                'Tweet': content,\n",
    "            })\n",
    "            \n",
    "        except Exception as e:\n",
    "            print(f\"Error parsing tweet block: {e}\")\n",
    "            continue\n",
    "    \n",
    "    df = pd.DataFrame(tweets)\n",
    "    \n",
    "    return df"
   ]
  },
  {
   "cell_type": "code",
   "execution_count": 45,
   "metadata": {},
   "outputs": [],
   "source": [
    "df1 = parse_tweets('../data/tweets3.txt')\n",
    "df2 = parse_tweets('../data/tweets4.txt')\n",
    "df3 = parse_tweets('../data/tweets5.txt')\n",
    "df4 = parse_tweets('../data/tweets6.txt')\n",
    "df5 = parse_tweets('../data/tweets7.txt')\n",
    "df6 = parse_tweets('../data/tweets10.txt')"
   ]
  },
  {
   "cell_type": "code",
   "execution_count": 46,
   "metadata": {},
   "outputs": [],
   "source": [
    "combined_df = pd.concat([df1, df2, df3, df4, df5,df6], axis=0)"
   ]
  },
  {
   "cell_type": "code",
   "execution_count": 47,
   "metadata": {},
   "outputs": [
    {
     "data": {
      "text/html": [
       "<div>\n",
       "<style scoped>\n",
       "    .dataframe tbody tr th:only-of-type {\n",
       "        vertical-align: middle;\n",
       "    }\n",
       "\n",
       "    .dataframe tbody tr th {\n",
       "        vertical-align: top;\n",
       "    }\n",
       "\n",
       "    .dataframe thead th {\n",
       "        text-align: right;\n",
       "    }\n",
       "</style>\n",
       "<table border=\"1\" class=\"dataframe\">\n",
       "  <thead>\n",
       "    <tr style=\"text-align: right;\">\n",
       "      <th></th>\n",
       "      <th>Date</th>\n",
       "      <th>Tweet</th>\n",
       "    </tr>\n",
       "  </thead>\n",
       "  <tbody>\n",
       "    <tr>\n",
       "      <th>0</th>\n",
       "      <td>Feb 8, 2023</td>\n",
       "      <td>@haluklevent\\n @OguzhanUgur\\n  hepinizden Alla...</td>\n",
       "    </tr>\n",
       "    <tr>\n",
       "      <th>1</th>\n",
       "      <td>Feb 8, 2023</td>\n",
       "      <td>Allahım nolur sen onlara dayanma gücü ver #deprem</td>\n",
       "    </tr>\n",
       "    <tr>\n",
       "      <th>2</th>\n",
       "      <td>Feb 8, 2023</td>\n",
       "      <td>Replying to \\n@haluklevent\\n @danlabilic\\n and...</td>\n",
       "    </tr>\n",
       "    <tr>\n",
       "      <th>3</th>\n",
       "      <td>Feb 8, 2023</td>\n",
       "      <td>Tuğba södekoğlu kovulsun \\n@showtv\\n #deprem</td>\n",
       "    </tr>\n",
       "    <tr>\n",
       "      <th>4</th>\n",
       "      <td>Feb 8, 2023</td>\n",
       "      <td>ARKADAŞIMIZA ULAŞAMIYORUZ\\nKahramanmaraş Elbis...</td>\n",
       "    </tr>\n",
       "  </tbody>\n",
       "</table>\n",
       "</div>"
      ],
      "text/plain": [
       "          Date                                              Tweet\n",
       "0  Feb 8, 2023  @haluklevent\\n @OguzhanUgur\\n  hepinizden Alla...\n",
       "1  Feb 8, 2023  Allahım nolur sen onlara dayanma gücü ver #deprem\n",
       "2  Feb 8, 2023  Replying to \\n@haluklevent\\n @danlabilic\\n and...\n",
       "3  Feb 8, 2023       Tuğba södekoğlu kovulsun \\n@showtv\\n #deprem\n",
       "4  Feb 8, 2023  ARKADAŞIMIZA ULAŞAMIYORUZ\\nKahramanmaraş Elbis..."
      ]
     },
     "execution_count": 47,
     "metadata": {},
     "output_type": "execute_result"
    }
   ],
   "source": [
    "combined_df.head()"
   ]
  },
  {
   "cell_type": "code",
   "execution_count": 48,
   "metadata": {},
   "outputs": [
    {
     "name": "stdout",
     "output_type": "stream",
     "text": [
      "           Date                                              Tweet\n",
      "0    08.02.2023  @haluklevent\\n @OguzhanUgur\\n  hepinizden Alla...\n",
      "1    08.02.2023  Allahım nolur sen onlara dayanma gücü ver #deprem\n",
      "2    08.02.2023  Replying to \\n@haluklevent\\n @danlabilic\\n and...\n",
      "3    08.02.2023       Tuğba södekoğlu kovulsun \\n@showtv\\n #deprem\n",
      "4    08.02.2023  ARKADAŞIMIZA ULAŞAMIYORUZ\\nKahramanmaraş Elbis...\n",
      "..          ...                                                ...\n",
      "209  07.02.2023  YAYALIM!!! \\n#Akut #deprem #diyarbakir #hatayy...\n",
      "210  07.02.2023  Korku, üzüntü, öfke hissediyorum. 99 depremi s...\n",
      "211  07.02.2023  Biraz önce Habertürk canlı yayınında toplam ve...\n",
      "212  07.02.2023  Bu binaları yapanlar...yaptıranlar..mezarınıza...\n",
      "213  07.02.2023  ÖNEMLİ DUYURU YAYALIM #hatay #hatayyardimbekli...\n",
      "\n",
      "[2890 rows x 2 columns]\n",
      "             Date                                              Tweet\n",
      "0      06.02.2023  İstanbulda gök gürültüsü başladı Allah’ım sen ...\n",
      "1      06.02.2023   Bu gece dualarımız enkaz altında kalanlar içi...\n",
      "2      06.02.2023  Ülkede afet var fırsatçılar iş başında..!Ülked...\n",
      "3      06.02.2023  Askerlerimiz kışladan çıksın  Yollar KAPALI  z...\n",
      "4      06.02.2023  Gün suçlu arama; sağa veya sola çamur atma, ik...\n",
      "...           ...                                                ...\n",
      "47074  10.02.2023  HALA UMUT VAR BELKİ RT YAPTIK BELKİ YAPMADIK A...\n",
      "47075  10.02.2023  Can can deyu söylerlerdi…Ben can nedir şimdi b...\n",
      "47076  10.02.2023  Deprem bölgelerinde hırsızlık, yağmacılık yapa...\n",
      "47077  10.02.2023  Deprem bölgesinden kurtarılan hayvanlara geçic...\n",
      "47078  10.02.2023   sonrasında çocukların psikolojisini nasıl kor...\n",
      "\n",
      "[942180 rows x 2 columns]\n"
     ]
    }
   ],
   "source": [
    "combined_df['Date'] = pd.to_datetime(combined_df['Date'], format='%b %d, %Y').dt.strftime('%d.%m.%Y')\n",
    "combined_df1['Date'] = pd.to_datetime(combined_df1['Date']).dt.strftime('%d.%m.%Y')\n",
    "print(combined_df)\n",
    "print(combined_df1)"
   ]
  },
  {
   "cell_type": "code",
   "execution_count": 49,
   "metadata": {},
   "outputs": [],
   "source": [
    "combined_df_end = pd.concat([combined_df, combined_df1], axis=0)"
   ]
  },
  {
   "cell_type": "code",
   "execution_count": 51,
   "metadata": {},
   "outputs": [
    {
     "data": {
      "text/html": [
       "<div>\n",
       "<style scoped>\n",
       "    .dataframe tbody tr th:only-of-type {\n",
       "        vertical-align: middle;\n",
       "    }\n",
       "\n",
       "    .dataframe tbody tr th {\n",
       "        vertical-align: top;\n",
       "    }\n",
       "\n",
       "    .dataframe thead th {\n",
       "        text-align: right;\n",
       "    }\n",
       "</style>\n",
       "<table border=\"1\" class=\"dataframe\">\n",
       "  <thead>\n",
       "    <tr style=\"text-align: right;\">\n",
       "      <th></th>\n",
       "      <th>Date</th>\n",
       "      <th>Tweet</th>\n",
       "    </tr>\n",
       "  </thead>\n",
       "  <tbody>\n",
       "    <tr>\n",
       "      <th>0</th>\n",
       "      <td>08.02.2023</td>\n",
       "      <td>@haluklevent\\n @OguzhanUgur\\n  hepinizden Alla...</td>\n",
       "    </tr>\n",
       "    <tr>\n",
       "      <th>1</th>\n",
       "      <td>08.02.2023</td>\n",
       "      <td>Allahım nolur sen onlara dayanma gücü ver #deprem</td>\n",
       "    </tr>\n",
       "    <tr>\n",
       "      <th>2</th>\n",
       "      <td>08.02.2023</td>\n",
       "      <td>Replying to \\n@haluklevent\\n @danlabilic\\n and...</td>\n",
       "    </tr>\n",
       "    <tr>\n",
       "      <th>3</th>\n",
       "      <td>08.02.2023</td>\n",
       "      <td>Tuğba södekoğlu kovulsun \\n@showtv\\n #deprem</td>\n",
       "    </tr>\n",
       "    <tr>\n",
       "      <th>4</th>\n",
       "      <td>08.02.2023</td>\n",
       "      <td>ARKADAŞIMIZA ULAŞAMIYORUZ\\nKahramanmaraş Elbis...</td>\n",
       "    </tr>\n",
       "    <tr>\n",
       "      <th>...</th>\n",
       "      <td>...</td>\n",
       "      <td>...</td>\n",
       "    </tr>\n",
       "    <tr>\n",
       "      <th>47074</th>\n",
       "      <td>10.02.2023</td>\n",
       "      <td>HALA UMUT VAR BELKİ RT YAPTIK BELKİ YAPMADIK A...</td>\n",
       "    </tr>\n",
       "    <tr>\n",
       "      <th>47075</th>\n",
       "      <td>10.02.2023</td>\n",
       "      <td>Can can deyu söylerlerdi…Ben can nedir şimdi b...</td>\n",
       "    </tr>\n",
       "    <tr>\n",
       "      <th>47076</th>\n",
       "      <td>10.02.2023</td>\n",
       "      <td>Deprem bölgelerinde hırsızlık, yağmacılık yapa...</td>\n",
       "    </tr>\n",
       "    <tr>\n",
       "      <th>47077</th>\n",
       "      <td>10.02.2023</td>\n",
       "      <td>Deprem bölgesinden kurtarılan hayvanlara geçic...</td>\n",
       "    </tr>\n",
       "    <tr>\n",
       "      <th>47078</th>\n",
       "      <td>10.02.2023</td>\n",
       "      <td>sonrasında çocukların psikolojisini nasıl kor...</td>\n",
       "    </tr>\n",
       "  </tbody>\n",
       "</table>\n",
       "<p>945070 rows × 2 columns</p>\n",
       "</div>"
      ],
      "text/plain": [
       "             Date                                              Tweet\n",
       "0      08.02.2023  @haluklevent\\n @OguzhanUgur\\n  hepinizden Alla...\n",
       "1      08.02.2023  Allahım nolur sen onlara dayanma gücü ver #deprem\n",
       "2      08.02.2023  Replying to \\n@haluklevent\\n @danlabilic\\n and...\n",
       "3      08.02.2023       Tuğba södekoğlu kovulsun \\n@showtv\\n #deprem\n",
       "4      08.02.2023  ARKADAŞIMIZA ULAŞAMIYORUZ\\nKahramanmaraş Elbis...\n",
       "...           ...                                                ...\n",
       "47074  10.02.2023  HALA UMUT VAR BELKİ RT YAPTIK BELKİ YAPMADIK A...\n",
       "47075  10.02.2023  Can can deyu söylerlerdi…Ben can nedir şimdi b...\n",
       "47076  10.02.2023  Deprem bölgelerinde hırsızlık, yağmacılık yapa...\n",
       "47077  10.02.2023  Deprem bölgesinden kurtarılan hayvanlara geçic...\n",
       "47078  10.02.2023   sonrasında çocukların psikolojisini nasıl kor...\n",
       "\n",
       "[945070 rows x 2 columns]"
      ]
     },
     "execution_count": 51,
     "metadata": {},
     "output_type": "execute_result"
    }
   ],
   "source": [
    "combined_df_end"
   ]
  },
  {
   "cell_type": "code",
   "execution_count": 53,
   "metadata": {},
   "outputs": [],
   "source": [
    "combined_df_end.to_csv('../data/tweets.csv', index=False)"
   ]
  }
 ],
 "metadata": {
  "kernelspec": {
   "display_name": "py310",
   "language": "python",
   "name": "python3"
  },
  "language_info": {
   "codemirror_mode": {
    "name": "ipython",
    "version": 3
   },
   "file_extension": ".py",
   "mimetype": "text/x-python",
   "name": "python",
   "nbconvert_exporter": "python",
   "pygments_lexer": "ipython3",
   "version": "3.10.14"
  }
 },
 "nbformat": 4,
 "nbformat_minor": 2
}

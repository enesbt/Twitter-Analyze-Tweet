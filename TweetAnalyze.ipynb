{
 "cells": [
  {
   "cell_type": "code",
   "execution_count": 1,
   "metadata": {},
   "outputs": [
    {
     "name": "stderr",
     "output_type": "stream",
     "text": [
      "c:\\Users\\Enes\\anaconda3\\envs\\py310\\lib\\site-packages\\tqdm\\auto.py:21: TqdmWarning: IProgress not found. Please update jupyter and ipywidgets. See https://ipywidgets.readthedocs.io/en/stable/user_install.html\n",
      "  from .autonotebook import tqdm as notebook_tqdm\n"
     ]
    }
   ],
   "source": [
    "import pandas as pd\n",
    "from wordcloud import WordCloud\n",
    "import matplotlib.pyplot as plt\n",
    "import string\n",
    "import nltk\n",
    "from nltk.corpus import stopwords\n",
    "import re\n",
    "from collections import Counter\n",
    "import stanza\n",
    "from spellchecker import SpellChecker\n",
    "from nltk.corpus import words\n",
    "import zemberek\n",
    "from zemberek.morphology import TurkishMorphology\n",
    "from zemberek.tokenization import TurkishTokenizer\n",
    "from zemberek.normalization import TurkishSpellChecker\n",
    "from zemberek.normalization import  TurkishSentenceNormalizer\n",
    "import jpype\n",
    "import jpype.imports\n",
    "from jpype.types import JString"
   ]
  },
  {
   "cell_type": "markdown",
   "metadata": {},
   "source": [
    "# READ DATA"
   ]
  },
  {
   "cell_type": "code",
   "execution_count": 3,
   "metadata": {},
   "outputs": [
    {
     "data": {
      "text/html": [
       "<div>\n",
       "<style scoped>\n",
       "    .dataframe tbody tr th:only-of-type {\n",
       "        vertical-align: middle;\n",
       "    }\n",
       "\n",
       "    .dataframe tbody tr th {\n",
       "        vertical-align: top;\n",
       "    }\n",
       "\n",
       "    .dataframe thead th {\n",
       "        text-align: right;\n",
       "    }\n",
       "</style>\n",
       "<table border=\"1\" class=\"dataframe\">\n",
       "  <thead>\n",
       "    <tr style=\"text-align: right;\">\n",
       "      <th></th>\n",
       "      <th>timestamp</th>\n",
       "      <th>username</th>\n",
       "      <th>handle</th>\n",
       "      <th>tweet_date</th>\n",
       "      <th>content</th>\n",
       "    </tr>\n",
       "  </thead>\n",
       "  <tbody>\n",
       "    <tr>\n",
       "      <th>0</th>\n",
       "      <td>2024-11-03 19:38:25</td>\n",
       "      <td>Orhan Şevik</td>\n",
       "      <td>orhan_sevik</td>\n",
       "      <td>Feb 8, 2023</td>\n",
       "      <td>@haluklevent\\n @OguzhanUgur\\n  hepinizden Alla...</td>\n",
       "    </tr>\n",
       "    <tr>\n",
       "      <th>1</th>\n",
       "      <td>2024-11-03 19:38:25</td>\n",
       "      <td>nursena</td>\n",
       "      <td>nurssxx_</td>\n",
       "      <td>Feb 8, 2023</td>\n",
       "      <td>Allahım nolur sen onlara dayanma gücü ver #deprem</td>\n",
       "    </tr>\n",
       "    <tr>\n",
       "      <th>2</th>\n",
       "      <td>2024-11-03 19:38:25</td>\n",
       "      <td>Elif ŞEKER</td>\n",
       "      <td>55ellllllif</td>\n",
       "      <td>Feb 8, 2023</td>\n",
       "      <td>Replying to \\n@haluklevent\\n @danlabilic\\n and...</td>\n",
       "    </tr>\n",
       "    <tr>\n",
       "      <th>3</th>\n",
       "      <td>2024-11-03 19:38:25</td>\n",
       "      <td>Yusuf</td>\n",
       "      <td>yusufaltuns</td>\n",
       "      <td>Feb 8, 2023</td>\n",
       "      <td>Tuğba södekoğlu kovulsun \\n@showtv\\n #deprem</td>\n",
       "    </tr>\n",
       "    <tr>\n",
       "      <th>4</th>\n",
       "      <td>2024-11-03 19:38:25</td>\n",
       "      <td>𝐎̈𝐳𝐠𝐮̈𝐫 𝐑𝐚𝐧</td>\n",
       "      <td>dryghtn2</td>\n",
       "      <td>Feb 8, 2023</td>\n",
       "      <td>ARKADAŞIMIZA ULAŞAMIYORUZ\\nKahramanmaraş Elbis...</td>\n",
       "    </tr>\n",
       "  </tbody>\n",
       "</table>\n",
       "</div>"
      ],
      "text/plain": [
       "             timestamp     username       handle   tweet_date  \\\n",
       "0  2024-11-03 19:38:25  Orhan Şevik  orhan_sevik  Feb 8, 2023   \n",
       "1  2024-11-03 19:38:25      nursena     nurssxx_  Feb 8, 2023   \n",
       "2  2024-11-03 19:38:25   Elif ŞEKER  55ellllllif  Feb 8, 2023   \n",
       "3  2024-11-03 19:38:25        Yusuf  yusufaltuns  Feb 8, 2023   \n",
       "4  2024-11-03 19:38:25  𝐎̈𝐳𝐠𝐮̈𝐫 𝐑𝐚𝐧     dryghtn2  Feb 8, 2023   \n",
       "\n",
       "                                             content  \n",
       "0  @haluklevent\\n @OguzhanUgur\\n  hepinizden Alla...  \n",
       "1  Allahım nolur sen onlara dayanma gücü ver #deprem  \n",
       "2  Replying to \\n@haluklevent\\n @danlabilic\\n and...  \n",
       "3       Tuğba södekoğlu kovulsun \\n@showtv\\n #deprem  \n",
       "4  ARKADAŞIMIZA ULAŞAMIYORUZ\\nKahramanmaraş Elbis...  "
      ]
     },
     "execution_count": 3,
     "metadata": {},
     "output_type": "execute_result"
    }
   ],
   "source": [
    "df = pd.read_csv('tweets.csv')\n",
    "df.head()"
   ]
  },
  {
   "cell_type": "markdown",
   "metadata": {},
   "source": [
    "# CHECK DATA"
   ]
  },
  {
   "cell_type": "code",
   "execution_count": 4,
   "metadata": {},
   "outputs": [
    {
     "name": "stdout",
     "output_type": "stream",
     "text": [
      "****************SHAPE****************\n",
      "(2676, 5)\n",
      "****************COLUMNS****************\n",
      "Index(['timestamp', 'username', 'handle', 'tweet_date', 'content'], dtype='object')\n",
      "****************DTYPES****************\n",
      "timestamp     object\n",
      "username      object\n",
      "handle        object\n",
      "tweet_date    object\n",
      "content       object\n",
      "dtype: object\n",
      "****************HEAD****************\n",
      "             timestamp     username       handle   tweet_date  \\\n",
      "0  2024-11-03 19:38:25  Orhan Şevik  orhan_sevik  Feb 8, 2023   \n",
      "1  2024-11-03 19:38:25      nursena     nurssxx_  Feb 8, 2023   \n",
      "2  2024-11-03 19:38:25   Elif ŞEKER  55ellllllif  Feb 8, 2023   \n",
      "3  2024-11-03 19:38:25        Yusuf  yusufaltuns  Feb 8, 2023   \n",
      "4  2024-11-03 19:38:25  𝐎̈𝐳𝐠𝐮̈𝐫 𝐑𝐚𝐧     dryghtn2  Feb 8, 2023   \n",
      "\n",
      "                                             content  \n",
      "0  @haluklevent\\n @OguzhanUgur\\n  hepinizden Alla...  \n",
      "1  Allahım nolur sen onlara dayanma gücü ver #deprem  \n",
      "2  Replying to \\n@haluklevent\\n @danlabilic\\n and...  \n",
      "3       Tuğba södekoğlu kovulsun \\n@showtv\\n #deprem  \n",
      "4  ARKADAŞIMIZA ULAŞAMIYORUZ\\nKahramanmaraş Elbis...  \n",
      "****************Tail****************\n",
      "                timestamp username         handle    tweet_date  \\\n",
      "2671  2024-11-06 22:52:29     Cans        cns6197  Feb 10, 2023   \n",
      "2672  2024-11-06 22:52:29      fzo        ffattze  Feb 10, 2023   \n",
      "2673  2024-11-06 22:52:30      NaN            NaN  Feb 10, 2023   \n",
      "2674  2024-11-06 22:52:30  Gürkan.       grkntzcn  Feb 10, 2023   \n",
      "2675  2024-11-06 22:52:30  ⓖⓐмzєℓi  charisma87_GA  Feb 10, 2023   \n",
      "\n",
      "                                                content  \n",
      "2671  KADER DEĞIL CINAYET...12 GÜN ÖNCE YAYINLANMIŞ ...  \n",
      "2672  seni tanımak bizler için bir şerefti öğretmeni...  \n",
      "2673  -mesaj-\\nAlitaşı Mahallesi Bozbey yolu Bahçeke...  \n",
      "2674  Bu ülkede depremin konu olarak anlatıldığı “co...  \n",
      "2675  O bebeklerin zaten melekler yardimcisi olur en...  \n",
      "****************NA****************\n",
      "timestamp      0\n",
      "username      26\n",
      "handle        26\n",
      "tweet_date     2\n",
      "content        2\n",
      "dtype: int64\n",
      "****************INFO****************\n",
      "<class 'pandas.core.frame.DataFrame'>\n",
      "RangeIndex: 2676 entries, 0 to 2675\n",
      "Data columns (total 5 columns):\n",
      " #   Column      Non-Null Count  Dtype \n",
      "---  ------      --------------  ----- \n",
      " 0   timestamp   2676 non-null   object\n",
      " 1   username    2650 non-null   object\n",
      " 2   handle      2650 non-null   object\n",
      " 3   tweet_date  2674 non-null   object\n",
      " 4   content     2674 non-null   object\n",
      "dtypes: object(5)\n",
      "memory usage: 104.7+ KB\n",
      "None\n"
     ]
    }
   ],
   "source": [
    "def checkData(data):\n",
    "    print(\"****************SHAPE****************\")\n",
    "    print(data.shape)\n",
    "    print(\"****************COLUMNS****************\")\n",
    "    print(data.columns)\n",
    "    print(\"****************DTYPES****************\")\n",
    "    print(data.dtypes)    \n",
    "    print(\"****************HEAD****************\")\n",
    "    print(data.head())\n",
    "    print(\"****************Tail****************\")\n",
    "    print(data.tail())\n",
    "    print(\"****************NA****************\")\n",
    "    print(data.isnull().sum())\n",
    "    print(\"****************INFO****************\")\n",
    "    print(data.info())\n",
    "\n",
    "checkData(df)"
   ]
  },
  {
   "cell_type": "markdown",
   "metadata": {},
   "source": [
    "# Tweets Lower And Conver Str"
   ]
  },
  {
   "cell_type": "code",
   "execution_count": 7,
   "metadata": {},
   "outputs": [],
   "source": [
    "df['content'] = df['content'].astype(str)\n",
    "df['content'] = df['content'].str.lower()"
   ]
  },
  {
   "cell_type": "markdown",
   "metadata": {},
   "source": [
    "# Count By Tweet Date"
   ]
  },
  {
   "cell_type": "code",
   "execution_count": 8,
   "metadata": {},
   "outputs": [
    {
     "name": "stdout",
     "output_type": "stream",
     "text": [
      "=== Tweet Counts by Date ===\n",
      "tweet_date\n",
      "Feb 10, 2023    1129\n",
      "Feb 7, 2023      563\n",
      "Feb 8, 2023      477\n",
      "Feb 9, 2023      455\n",
      "Feb 6, 2023       50\n",
      "Name: content, dtype: int64\n"
     ]
    }
   ],
   "source": [
    "tweet_counts = df.groupby('tweet_date')['content'].count().sort_values(ascending=False)\n",
    "print(\"=== Tweet Counts by Date ===\")\n",
    "print(tweet_counts)"
   ]
  },
  {
   "cell_type": "markdown",
   "metadata": {},
   "source": [
    "# Hastags"
   ]
  },
  {
   "cell_type": "code",
   "execution_count": 9,
   "metadata": {},
   "outputs": [
    {
     "name": "stdout",
     "output_type": "stream",
     "text": [
      "=== Hashtag Counts ===\n",
      "content\n",
      "#deprem                  2686\n",
      "#hatay                    402\n",
      "#depremsondakika          193\n",
      "#hatayyardimbekliyor      193\n",
      "#afad                     145\n",
      "                         ... \n",
      "#şeytan                     1\n",
      "#abdgemisiistemiyoruz       1\n",
      "#arkadaslar                 1\n",
      "#liberal                    1\n",
      "#coğrafyadersi              1\n",
      "Name: count, Length: 767, dtype: int64\n"
     ]
    }
   ],
   "source": [
    "hashtag_counts = df['content'].str.findall(r'#\\w+').explode().value_counts()\n",
    "print(\"=== Hashtag Counts ===\")\n",
    "print(hashtag_counts)"
   ]
  },
  {
   "cell_type": "markdown",
   "metadata": {},
   "source": [
    "# Word Cloud"
   ]
  },
  {
   "cell_type": "code",
   "execution_count": null,
   "metadata": {},
   "outputs": [],
   "source": []
  }
 ],
 "metadata": {
  "kernelspec": {
   "display_name": "py310",
   "language": "python",
   "name": "python3"
  },
  "language_info": {
   "codemirror_mode": {
    "name": "ipython",
    "version": 3
   },
   "file_extension": ".py",
   "mimetype": "text/x-python",
   "name": "python",
   "nbconvert_exporter": "python",
   "pygments_lexer": "ipython3",
   "version": "3.10.14"
  }
 },
 "nbformat": 4,
 "nbformat_minor": 2
}

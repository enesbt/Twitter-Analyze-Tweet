{
 "cells": [
  {
   "cell_type": "code",
   "execution_count": 1,
   "metadata": {},
   "outputs": [],
   "source": [
    "from selenium import webdriver\n",
    "from selenium.webdriver.common.by import By\n",
    "import time\n",
    "from selenium.webdriver.common.keys import Keys\n",
    "from bs4 import BeautifulSoup\n",
    "import re\n",
    "import random as rand\n",
    "from selenium.webdriver.common.action_chains import ActionChains\n",
    "import pickle\n",
    "import datetime\n",
    "from fake_useragent import UserAgent\n",
    "from configparser import ConfigParser"
   ]
  },
  {
   "cell_type": "markdown",
   "metadata": {},
   "source": [
    "# Random"
   ]
  },
  {
   "cell_type": "code",
   "execution_count": 2,
   "metadata": {},
   "outputs": [],
   "source": [
    "def random_sleep(start, end):\n",
    "    time.sleep(rand.randint(start, end))\n",
    "\n",
    "def random(start,end):\n",
    "    return rand.randint(start, end)"
   ]
  },
  {
   "cell_type": "markdown",
   "metadata": {},
   "source": [
    "# Driver"
   ]
  },
  {
   "cell_type": "code",
   "execution_count": 3,
   "metadata": {},
   "outputs": [],
   "source": [
    "def createDriver():\n",
    "    ua = UserAgent()\n",
    "    options = webdriver.ChromeOptions()\n",
    "    options.add_argument(\"--start-maximized\")\n",
    "    options.add_argument(f'--user-agent={ua.random}')\n",
    "    options.add_argument(\"--disable-blink-features=AutomationControlled\")\n",
    "    options.add_argument(\"--incognito\")\n",
    "    options.add_argument(\"--disable-popup-blocking\")\n",
    "    driver = webdriver.Chrome(options)\n",
    "    return driver"
   ]
  },
  {
   "cell_type": "markdown",
   "metadata": {},
   "source": [
    "# Login"
   ]
  },
  {
   "cell_type": "code",
   "execution_count": 4,
   "metadata": {},
   "outputs": [],
   "source": [
    "def login(driver):\n",
    "    try:\n",
    "        config = ConfigParser()\n",
    "        config.read('config.ini')\n",
    "        USERNAME = config['X']['username']\n",
    "        PASSWORD = config['X']['password']\n",
    "        driver.get(\"https://x.com/login\")\n",
    "        random_sleep(2,7)\n",
    "        username = driver.find_element(By.XPATH, '//*[@id=\"layers\"]/div[2]/div/div/div/div/div/div[2]/div[2]/div/div/div[2]/div[2]/div/div/div/div[4]/label/div/div[2]/div/input')\n",
    "        username.send_keys(USERNAME)\n",
    "        random_sleep(2,7)\n",
    "        next = driver.find_element(By.XPATH, '//*[@id=\"layers\"]/div[2]/div/div/div/div/div/div[2]/div[2]/div/div/div[2]/div[2]/div/div/div/button[2]/div')\n",
    "        next.click()    \n",
    "        random_sleep(2,7)\n",
    "        password = driver.find_element(By.XPATH, '//*[@id=\"layers\"]/div[2]/div/div/div/div/div/div[2]/div[2]/div/div/div[2]/div[2]/div[1]/div/div/div[3]/div/label/div/div[2]/div[1]/input')\n",
    "        password.send_keys(PASSWORD)\n",
    "        random_sleep(2,7)\n",
    "        login = driver.find_element(By.XPATH, '//*[@id=\"layers\"]/div[2]/div/div/div/div/div/div[2]/div[2]/div/div/div[2]/div[2]/div[2]/div/div[1]/div/div/button')\n",
    "        login.click()\n",
    "        random_sleep(2,7)\n",
    "        return driver\n",
    "    except Exception as e:\n",
    "        print(f\"Login failed: {str(e)}\")\n",
    "        return None\n"
   ]
  },
  {
   "cell_type": "markdown",
   "metadata": {},
   "source": [
    "# Search"
   ]
  },
  {
   "cell_type": "code",
   "execution_count": 5,
   "metadata": {},
   "outputs": [],
   "source": [
    "def search(driver,searchStr=\"#deprem lang:tr until:2023-02-07 since:2023-02-06\"):\n",
    "    search = driver.find_element(By.XPATH, '//*[@id=\"react-root\"]/div/div/div[2]/main/div/div/div/div[2]/div/div[2]/div/div/div/div[1]/div/div/div/form/div[1]/div/div/div/div/div[2]/div/input')\n",
    "    search.send_keys(searchStr)\n",
    "    search.send_keys(Keys.ENTER)\n",
    "    random_sleep(5,9)\n",
    "    latest = driver.find_element(By.XPATH, '//*[@id=\"react-root\"]/div/div/div[2]/main/div/div/div/div[1]/div/div[1]/div[1]/div[2]/nav/div/div[2]/div/div[2]/a')\n",
    "    latest.click()\n",
    "    random_sleep(5,9)\n",
    "    return driver"
   ]
  },
  {
   "cell_type": "markdown",
   "metadata": {},
   "source": [
    "# Random Scroll Tweets"
   ]
  },
  {
   "cell_type": "code",
   "execution_count": 12,
   "metadata": {},
   "outputs": [],
   "source": [
    "def random_scroll_tweets(driver, element):\n",
    "    scroll_amount = rand.randint(1000, 3000)\n",
    "    scroll_duration = rand.uniform(0.5, 2)\n",
    "    try:\n",
    "        driver.execute_script(\n",
    "            \"arguments[0].scrollIntoView({behavior: 'smooth', block: 'center'});\", \n",
    "            element\n",
    "        )\n",
    "        driver.execute_script(\n",
    "            f\"window.scrollBy(0, {scroll_amount});\", \n",
    "        )\n",
    "        time.sleep(scroll_duration)\n",
    "    except Exception as e:\n",
    "        print(f\"Scroll failed: {str(e)}\")"
   ]
  },
  {
   "cell_type": "markdown",
   "metadata": {},
   "source": [
    "# Random Scroll"
   ]
  },
  {
   "cell_type": "code",
   "execution_count": 13,
   "metadata": {},
   "outputs": [],
   "source": [
    "def smooth_random_scroll(driver):\n",
    "    scroll_amount = rand.randint(1000, 2000)\n",
    "    scroll_duration = rand.uniform(0.5, 2)\n",
    "    try:\n",
    "        driver.execute_script(\n",
    "            f\"window.scrollBy({{ top: {scroll_amount}, behavior: 'smooth' }});\"\n",
    "        )\n",
    "        time.sleep(scroll_duration)\n",
    "    except Exception as e:\n",
    "        print(f\"Smooth scroll failed: {str(e)}\")"
   ]
  },
  {
   "cell_type": "markdown",
   "metadata": {},
   "source": [
    "# Random Click"
   ]
  },
  {
   "cell_type": "code",
   "execution_count": 14,
   "metadata": {},
   "outputs": [],
   "source": [
    "xpath_list = [\n",
    "    '//*[@id=\"react-root\"]/div/div/div[2]/header/div/div/div/div[1]/div[2]/nav/a[2]',  # Explore\n",
    "    '//*[@id=\"react-root\"]/div/div/div[2]/header/div/div/div/div[1]/div[2]/nav/a[3]',  # Notifications\n",
    "    '//*[@id=\"react-root\"]/div/div/div[2]/header/div/div/div/div[1]/div[2]/nav/a[4]',  # Messages\n",
    "    '//*[@id=\"react-root\"]/div/div/div[2]/header/div/div/div/div[1]/div[2]/nav/a[5]',  # Grok\n",
    "    '//*[@id=\"react-root\"]/div/div/div[2]/header/div/div/div/div[1]/div[2]/nav/a[6]',  # Lists\n",
    "    '//*[@id=\"react-root\"]/div/div/div[2]/header/div/div/div/div[1]/div[2]/nav/a[7]',  # Bookmarks\n",
    "    '//*[@id=\"react-root\"]/div/div/div[2]/header/div/div/div/div[1]/div[2]/nav/a[12]'  # Profile\n",
    "]\n",
    "\n",
    "def random_click(driver):\n",
    "    xpath = rand.choice(xpath_list)\n",
    "    try:\n",
    "        element = driver.find_element(By.XPATH, xpath)\n",
    "        element.click()\n",
    "        random_sleep(2,7)        \n",
    "        driver.back()\n",
    "        random_sleep(2,7)\n",
    "        \n",
    "    except Exception as e:\n",
    "        print(f\"Error while clicking: {str(e)}\")"
   ]
  },
  {
   "cell_type": "markdown",
   "metadata": {},
   "source": [
    "# GetData"
   ]
  },
  {
   "cell_type": "code",
   "execution_count": 15,
   "metadata": {},
   "outputs": [],
   "source": [
    "def get_tweets(driver,file=\"tweets10.txt\"):\n",
    "    seen_tweets = set()\n",
    "    \n",
    "    with open(file, \"a\", encoding=\"utf-8\") as file:\n",
    "        while True:\n",
    "            timeline_divs = driver.find_elements(By.XPATH, '//div[@data-testid=\"cellInnerDiv\"]')\n",
    "            for div in timeline_divs:\n",
    "                try:\n",
    "                    tweet_text = div.text.strip() if div.text else \"\"\n",
    "                    if tweet_text and tweet_text not in seen_tweets:\n",
    "                        seen_tweets.add(tweet_text)\n",
    "                        file.write(f\"Timestamp: {datetime.datetime.now().strftime('%Y-%m-%d %H:%M:%S')}\\nText: {tweet_text}\\n\\n\")\n",
    "                \n",
    "                except Exception as e:\n",
    "                    print(f\"An error occurred while processing the tweet: {str(e)}\")\n",
    "                    continue  \n",
    "            \n",
    "            if timeline_divs:\n",
    "                random_scroll_tweets(driver, timeline_divs[-1])\n",
    "                random_sleep(1, 2)\n",
    "                for _ in range(rand.randint(1, 2)):\n",
    "                    random_click(driver)\n",
    "                    smooth_random_scroll(driver)\n",
    "                \n",
    "            #ActionChains(driver).move_to_element(timeline_divs[-1]).perform()\n",
    "            #random_sleep(1,2)"
   ]
  },
  {
   "cell_type": "code",
   "execution_count": 18,
   "metadata": {},
   "outputs": [
    {
     "ename": "NoSuchWindowException",
     "evalue": "Message: no such window: target window already closed\nfrom unknown error: web view not found\n  (Session info: chrome=131.0.6778.69)\nStacktrace:\n\tGetHandleVerifier [0x00007FF7AC8D2775+28773]\n\t(No symbol) [0x00007FF7AC83AFB0]\n\t(No symbol) [0x00007FF7AC6D552A]\n\t(No symbol) [0x00007FF7AC6AF2B5]\n\t(No symbol) [0x00007FF7AC755FD7]\n\t(No symbol) [0x00007FF7AC76EA92]\n\t(No symbol) [0x00007FF7AC74ED43]\n\t(No symbol) [0x00007FF7AC71A548]\n\t(No symbol) [0x00007FF7AC71B6B1]\n\tGetHandleVerifier [0x00007FF7ACBFF45D+3358029]\n\tGetHandleVerifier [0x00007FF7ACC1430D+3443709]\n\tGetHandleVerifier [0x00007FF7ACC083FD+3394797]\n\tGetHandleVerifier [0x00007FF7AC99929B+842635]\n\t(No symbol) [0x00007FF7AC84654F]\n\t(No symbol) [0x00007FF7AC841FA4]\n\t(No symbol) [0x00007FF7AC84213D]\n\t(No symbol) [0x00007FF7AC831629]\n\tBaseThreadInitThunk [0x00007FFC4BE3259D+29]\n\tRtlUserThreadStart [0x00007FFC4DD2AF38+40]\n",
     "output_type": "error",
     "traceback": [
      "\u001b[1;31m---------------------------------------------------------------------------\u001b[0m",
      "\u001b[1;31mNoSuchWindowException\u001b[0m                     Traceback (most recent call last)",
      "Cell \u001b[1;32mIn[18], line 5\u001b[0m\n\u001b[0;32m      3\u001b[0m random_sleep(\u001b[38;5;241m3\u001b[39m,\u001b[38;5;241m7\u001b[39m)\n\u001b[0;32m      4\u001b[0m driver \u001b[38;5;241m=\u001b[39m search(driver,\u001b[38;5;124m\"\u001b[39m\u001b[38;5;124m#deprem lang:tr until:2023-02-07 since:2023-02-05\u001b[39m\u001b[38;5;124m\"\u001b[39m)\n\u001b[1;32m----> 5\u001b[0m \u001b[43mget_tweets\u001b[49m\u001b[43m(\u001b[49m\u001b[43mdriver\u001b[49m\u001b[43m)\u001b[49m\n\u001b[0;32m      6\u001b[0m driver\u001b[38;5;241m.\u001b[39mquit()\n",
      "Cell \u001b[1;32mIn[15], line 6\u001b[0m, in \u001b[0;36mget_tweets\u001b[1;34m(driver, file)\u001b[0m\n\u001b[0;32m      4\u001b[0m \u001b[38;5;28;01mwith\u001b[39;00m \u001b[38;5;28mopen\u001b[39m(file, \u001b[38;5;124m\"\u001b[39m\u001b[38;5;124ma\u001b[39m\u001b[38;5;124m\"\u001b[39m, encoding\u001b[38;5;241m=\u001b[39m\u001b[38;5;124m\"\u001b[39m\u001b[38;5;124mutf-8\u001b[39m\u001b[38;5;124m\"\u001b[39m) \u001b[38;5;28;01mas\u001b[39;00m file:\n\u001b[0;32m      5\u001b[0m     \u001b[38;5;28;01mwhile\u001b[39;00m \u001b[38;5;28;01mTrue\u001b[39;00m:\n\u001b[1;32m----> 6\u001b[0m         timeline_divs \u001b[38;5;241m=\u001b[39m \u001b[43mdriver\u001b[49m\u001b[38;5;241;43m.\u001b[39;49m\u001b[43mfind_elements\u001b[49m\u001b[43m(\u001b[49m\u001b[43mBy\u001b[49m\u001b[38;5;241;43m.\u001b[39;49m\u001b[43mXPATH\u001b[49m\u001b[43m,\u001b[49m\u001b[43m \u001b[49m\u001b[38;5;124;43m'\u001b[39;49m\u001b[38;5;124;43m//div[@data-testid=\u001b[39;49m\u001b[38;5;124;43m\"\u001b[39;49m\u001b[38;5;124;43mcellInnerDiv\u001b[39;49m\u001b[38;5;124;43m\"\u001b[39;49m\u001b[38;5;124;43m]\u001b[39;49m\u001b[38;5;124;43m'\u001b[39;49m\u001b[43m)\u001b[49m\n\u001b[0;32m      7\u001b[0m         \u001b[38;5;28;01mfor\u001b[39;00m div \u001b[38;5;129;01min\u001b[39;00m timeline_divs:\n\u001b[0;32m      8\u001b[0m             \u001b[38;5;28;01mtry\u001b[39;00m:\n",
      "File \u001b[1;32mc:\\Users\\Enes\\AppData\\Local\\Programs\\Python\\Python311\\Lib\\site-packages\\selenium\\webdriver\\remote\\webdriver.py:778\u001b[0m, in \u001b[0;36mWebDriver.find_elements\u001b[1;34m(self, by, value)\u001b[0m\n\u001b[0;32m    774\u001b[0m     value \u001b[38;5;241m=\u001b[39m \u001b[38;5;124mf\u001b[39m\u001b[38;5;124m'\u001b[39m\u001b[38;5;124m[name=\u001b[39m\u001b[38;5;124m\"\u001b[39m\u001b[38;5;132;01m{\u001b[39;00mvalue\u001b[38;5;132;01m}\u001b[39;00m\u001b[38;5;124m\"\u001b[39m\u001b[38;5;124m]\u001b[39m\u001b[38;5;124m'\u001b[39m\n\u001b[0;32m    776\u001b[0m \u001b[38;5;66;03m# Return empty list if driver returns null\u001b[39;00m\n\u001b[0;32m    777\u001b[0m \u001b[38;5;66;03m# See https://github.com/SeleniumHQ/selenium/issues/4555\u001b[39;00m\n\u001b[1;32m--> 778\u001b[0m \u001b[38;5;28;01mreturn\u001b[39;00m \u001b[38;5;28;43mself\u001b[39;49m\u001b[38;5;241;43m.\u001b[39;49m\u001b[43mexecute\u001b[49m\u001b[43m(\u001b[49m\u001b[43mCommand\u001b[49m\u001b[38;5;241;43m.\u001b[39;49m\u001b[43mFIND_ELEMENTS\u001b[49m\u001b[43m,\u001b[49m\u001b[43m \u001b[49m\u001b[43m{\u001b[49m\u001b[38;5;124;43m\"\u001b[39;49m\u001b[38;5;124;43musing\u001b[39;49m\u001b[38;5;124;43m\"\u001b[39;49m\u001b[43m:\u001b[49m\u001b[43m \u001b[49m\u001b[43mby\u001b[49m\u001b[43m,\u001b[49m\u001b[43m \u001b[49m\u001b[38;5;124;43m\"\u001b[39;49m\u001b[38;5;124;43mvalue\u001b[39;49m\u001b[38;5;124;43m\"\u001b[39;49m\u001b[43m:\u001b[49m\u001b[43m \u001b[49m\u001b[43mvalue\u001b[49m\u001b[43m}\u001b[49m\u001b[43m)\u001b[49m[\u001b[38;5;124m\"\u001b[39m\u001b[38;5;124mvalue\u001b[39m\u001b[38;5;124m\"\u001b[39m] \u001b[38;5;129;01mor\u001b[39;00m []\n",
      "File \u001b[1;32mc:\\Users\\Enes\\AppData\\Local\\Programs\\Python\\Python311\\Lib\\site-packages\\selenium\\webdriver\\remote\\webdriver.py:354\u001b[0m, in \u001b[0;36mWebDriver.execute\u001b[1;34m(self, driver_command, params)\u001b[0m\n\u001b[0;32m    352\u001b[0m response \u001b[38;5;241m=\u001b[39m \u001b[38;5;28mself\u001b[39m\u001b[38;5;241m.\u001b[39mcommand_executor\u001b[38;5;241m.\u001b[39mexecute(driver_command, params)\n\u001b[0;32m    353\u001b[0m \u001b[38;5;28;01mif\u001b[39;00m response:\n\u001b[1;32m--> 354\u001b[0m     \u001b[38;5;28;43mself\u001b[39;49m\u001b[38;5;241;43m.\u001b[39;49m\u001b[43merror_handler\u001b[49m\u001b[38;5;241;43m.\u001b[39;49m\u001b[43mcheck_response\u001b[49m\u001b[43m(\u001b[49m\u001b[43mresponse\u001b[49m\u001b[43m)\u001b[49m\n\u001b[0;32m    355\u001b[0m     response[\u001b[38;5;124m\"\u001b[39m\u001b[38;5;124mvalue\u001b[39m\u001b[38;5;124m\"\u001b[39m] \u001b[38;5;241m=\u001b[39m \u001b[38;5;28mself\u001b[39m\u001b[38;5;241m.\u001b[39m_unwrap_value(response\u001b[38;5;241m.\u001b[39mget(\u001b[38;5;124m\"\u001b[39m\u001b[38;5;124mvalue\u001b[39m\u001b[38;5;124m\"\u001b[39m, \u001b[38;5;28;01mNone\u001b[39;00m))\n\u001b[0;32m    356\u001b[0m     \u001b[38;5;28;01mreturn\u001b[39;00m response\n",
      "File \u001b[1;32mc:\\Users\\Enes\\AppData\\Local\\Programs\\Python\\Python311\\Lib\\site-packages\\selenium\\webdriver\\remote\\errorhandler.py:229\u001b[0m, in \u001b[0;36mErrorHandler.check_response\u001b[1;34m(self, response)\u001b[0m\n\u001b[0;32m    227\u001b[0m         alert_text \u001b[38;5;241m=\u001b[39m value[\u001b[38;5;124m\"\u001b[39m\u001b[38;5;124malert\u001b[39m\u001b[38;5;124m\"\u001b[39m]\u001b[38;5;241m.\u001b[39mget(\u001b[38;5;124m\"\u001b[39m\u001b[38;5;124mtext\u001b[39m\u001b[38;5;124m\"\u001b[39m)\n\u001b[0;32m    228\u001b[0m     \u001b[38;5;28;01mraise\u001b[39;00m exception_class(message, screen, stacktrace, alert_text)  \u001b[38;5;66;03m# type: ignore[call-arg]  # mypy is not smart enough here\u001b[39;00m\n\u001b[1;32m--> 229\u001b[0m \u001b[38;5;28;01mraise\u001b[39;00m exception_class(message, screen, stacktrace)\n",
      "\u001b[1;31mNoSuchWindowException\u001b[0m: Message: no such window: target window already closed\nfrom unknown error: web view not found\n  (Session info: chrome=131.0.6778.69)\nStacktrace:\n\tGetHandleVerifier [0x00007FF7AC8D2775+28773]\n\t(No symbol) [0x00007FF7AC83AFB0]\n\t(No symbol) [0x00007FF7AC6D552A]\n\t(No symbol) [0x00007FF7AC6AF2B5]\n\t(No symbol) [0x00007FF7AC755FD7]\n\t(No symbol) [0x00007FF7AC76EA92]\n\t(No symbol) [0x00007FF7AC74ED43]\n\t(No symbol) [0x00007FF7AC71A548]\n\t(No symbol) [0x00007FF7AC71B6B1]\n\tGetHandleVerifier [0x00007FF7ACBFF45D+3358029]\n\tGetHandleVerifier [0x00007FF7ACC1430D+3443709]\n\tGetHandleVerifier [0x00007FF7ACC083FD+3394797]\n\tGetHandleVerifier [0x00007FF7AC99929B+842635]\n\t(No symbol) [0x00007FF7AC84654F]\n\t(No symbol) [0x00007FF7AC841FA4]\n\t(No symbol) [0x00007FF7AC84213D]\n\t(No symbol) [0x00007FF7AC831629]\n\tBaseThreadInitThunk [0x00007FFC4BE3259D+29]\n\tRtlUserThreadStart [0x00007FFC4DD2AF38+40]\n"
     ]
    }
   ],
   "source": [
    "driver = createDriver()\n",
    "driver = login(driver)\n",
    "random_sleep(3,7)\n",
    "driver = search(driver,\"#deprem lang:tr until:2023-02-07 since:2023-02-05\")\n",
    "get_tweets(driver)\n",
    "driver.quit()"
   ]
  },
  {
   "cell_type": "code",
   "execution_count": null,
   "metadata": {},
   "outputs": [],
   "source": []
  }
 ],
 "metadata": {
  "kernelspec": {
   "display_name": "Python 3",
   "language": "python",
   "name": "python3"
  },
  "language_info": {
   "codemirror_mode": {
    "name": "ipython",
    "version": 3
   },
   "file_extension": ".py",
   "mimetype": "text/x-python",
   "name": "python",
   "nbconvert_exporter": "python",
   "pygments_lexer": "ipython3",
   "version": "3.11.5"
  }
 },
 "nbformat": 4,
 "nbformat_minor": 2
}

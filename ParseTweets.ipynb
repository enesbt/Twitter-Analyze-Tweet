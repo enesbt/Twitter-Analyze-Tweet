{
 "cells": [
  {
   "cell_type": "code",
   "execution_count": 6,
   "metadata": {},
   "outputs": [],
   "source": [
    "import pandas as pd\n",
    "from datetime import datetime\n",
    "import re"
   ]
  },
  {
   "cell_type": "code",
   "execution_count": 13,
   "metadata": {},
   "outputs": [],
   "source": [
    "def parse_tweets(file_path):\n",
    "    tweets = []\n",
    "    with open(file_path, 'r', encoding='utf-8') as f:\n",
    "        content = f.read()\n",
    "    tweet_blocks = content.split('\\nTimestamp: ')\n",
    "    for block in tweet_blocks:\n",
    "        if not block.strip():\n",
    "            continue\n",
    "            \n",
    "        try:\n",
    "            timestamp_match = re.search(r'(\\d{4}-\\d{2}-\\d{2} \\d{2}:\\d{2}:\\d{2})', block)\n",
    "            timestamp = datetime.strptime(timestamp_match.group(1), '%Y-%m-%d %H:%M:%S') if timestamp_match else None\n",
    "            username_match = re.search(r'Text: (.*?)\\n@([^\\n]+)', block)\n",
    "            username = username_match.group(1).strip() if username_match else None\n",
    "            handle = username_match.group(2).strip() if username_match else None\n",
    "            date_match = re.search(r'Feb \\d+, 2023', block)\n",
    "            tweet_date = date_match.group(0) if date_match else None\n",
    "            content_match = re.search(r'Feb \\d+, 2023\\n(.*?)(?=\\d+\\n\\d+|$)', block, re.DOTALL)\n",
    "            content = content_match.group(1).strip() if content_match else None\n",
    "            \n",
    "            tweets.append({\n",
    "                'timestamp': timestamp,\n",
    "                'username': username,\n",
    "                'handle': handle,\n",
    "                'tweet_date': tweet_date,\n",
    "                'content': content,\n",
    "               \n",
    "            })\n",
    "            \n",
    "        except Exception as e:\n",
    "            print(f\"Error parsing tweet block: {e}\")\n",
    "            continue\n",
    "    \n",
    "    df = pd.DataFrame(tweets)\n",
    "    \n",
    "    return df"
   ]
  },
  {
   "cell_type": "code",
   "execution_count": 14,
   "metadata": {},
   "outputs": [],
   "source": [
    "df1 = parse_tweets('tweets3.txt')\n",
    "df2 = parse_tweets('tweets4.txt')\n",
    "df3 = parse_tweets('tweets5.txt')\n",
    "df4 = parse_tweets('tweets6.txt')\n",
    "df5 = parse_tweets('tweets7.txt')\n",
    "df6 = parse_tweets('tweets10.txt')"
   ]
  },
  {
   "cell_type": "code",
   "execution_count": 15,
   "metadata": {},
   "outputs": [],
   "source": [
    "combined_df = pd.concat([df1, df2, df3, df4, df5,df6], axis=0)"
   ]
  },
  {
   "cell_type": "code",
   "execution_count": 16,
   "metadata": {},
   "outputs": [],
   "source": [
    "combined_df.to_csv('tweets.csv', index=False)"
   ]
  },
  {
   "cell_type": "code",
   "execution_count": null,
   "metadata": {},
   "outputs": [],
   "source": []
  }
 ],
 "metadata": {
  "kernelspec": {
   "display_name": "py310",
   "language": "python",
   "name": "python3"
  },
  "language_info": {
   "codemirror_mode": {
    "name": "ipython",
    "version": 3
   },
   "file_extension": ".py",
   "mimetype": "text/x-python",
   "name": "python",
   "nbconvert_exporter": "python",
   "pygments_lexer": "ipython3",
   "version": "3.10.14"
  }
 },
 "nbformat": 4,
 "nbformat_minor": 2
}
